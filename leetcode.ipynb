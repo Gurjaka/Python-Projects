{
 "cells": [
  {
   "cell_type": "markdown",
   "metadata": {},
   "source": [
    "1) Merge Strings Alternaly\n",
    "\n",
    "You are given two strings word1 and word2. Merge the strings by adding letters in alternating order, starting with word1. If a string is longer than the other, append the additional letters onto the end of the merged string.\n",
    "\n",
    "Return the merged string."
   ]
  },
  {
   "cell_type": "code",
   "execution_count": 1,
   "metadata": {},
   "outputs": [
    {
     "name": "stdout",
     "output_type": "stream",
     "text": [
      "apbqcr\n"
     ]
    }
   ],
   "source": [
    "class Solution(object):\n",
    "    def mergeAlternately(self, word1, word2):\n",
    "        \"\"\"\n",
    "        :type word1: str\n",
    "        :type word2: str\n",
    "        :rtype: str\n",
    "        \"\"\"\n",
    "        output = \"\"\n",
    "        if len(word1) <= len(word2):\n",
    "            i = 0\n",
    "            while i < len(word1):\n",
    "                output += word1[i] + word2[i]\n",
    "                i += 1\n",
    "            output += word2[i:]\n",
    "        elif len(word1) > len(word2):\n",
    "            i = 0\n",
    "            while i <= len(word2):\n",
    "                output += word1[i] + word2[i]\n",
    "                i += 1\n",
    "            output += word1[i:]\n",
    "        return output\n",
    "\n",
    "text = Solution()\n",
    "print(text.mergeAlternately(\"abc\",\"pqr\"))\n"
   ]
  },
  {
   "cell_type": "markdown",
   "metadata": {},
   "source": [
    "2) Can Place Flowers\n",
    "\n",
    "You have a long flowerbed in which some of the plots are planted, and some are not. However, flowers cannot be planted in adjacent plots.\n",
    "\n",
    "Given an integer array flowerbed containing 0's and 1's, where 0 means empty and 1 means not empty, and an integer n, return true if n new flowers can be planted in the flowerbed without violating the no-adjacent-flowers rule and false otherwise."
   ]
  },
  {
   "cell_type": "code",
   "execution_count": 56,
   "metadata": {},
   "outputs": [
    {
     "name": "stdout",
     "output_type": "stream",
     "text": [
      "True\n"
     ]
    }
   ],
   "source": [
    "class Solution(object):\n",
    "   def canPlaceFlowers(self, flowerbed, n):\n",
    "        if n == 0:\n",
    "            return True\n",
    "        else:\n",
    "            flowerbed = [0] + flowerbed + [0]\n",
    "            count = 0\n",
    "            \n",
    "            for i in range(1, len(flowerbed) - 1):\n",
    "                if flowerbed[i] == 0 and flowerbed[i-1] == 0 and flowerbed[i+1] == 0:\n",
    "                    flowerbed[i] = 1\n",
    "                    count += 1\n",
    "                    if count >= n:\n",
    "                        return True\n",
    "            \n",
    "            return False\n",
    "flowers = Solution()\n",
    "print(flowers.canPlaceFlowers([1,0,0,0,0,0,1,0,0,0,0,1,0,0,0,0,1,0,0,0,0], 6))"
   ]
  },
  {
   "cell_type": "markdown",
   "metadata": {},
   "source": [
    "3) Kids With the Greatest Number of Candies\n",
    "\n",
    "Given an array candies representing the number of candies each kid has and an integer extraCandies, determine if each kid can have the maximum number of candies after adding extraCandies. Return a boolean array where each element is True if the kid can have the maximum candies after adding extraCandies, and False otherwise. Multiple kids can have the maximum number of candies."
   ]
  },
  {
   "cell_type": "code",
   "execution_count": 87,
   "metadata": {},
   "outputs": [
    {
     "name": "stdout",
     "output_type": "stream",
     "text": [
      "[True, True, True, False, True]\n"
     ]
    }
   ],
   "source": [
    "class Solution(object):\n",
    "    def kidsWithCandies(self, candies, extraCandies):\n",
    "        value = []\n",
    "        for i in candies:\n",
    "            if i+extraCandies >= max(candies):\n",
    "                value.append(True) \n",
    "            else:\n",
    "                value.append(False) \n",
    "        return value  \n",
    "kids = Solution()\n",
    "print(kids.kidsWithCandies([2,3,5,1,3], 3))"
   ]
  },
  {
   "cell_type": "markdown",
   "metadata": {},
   "source": [
    "4) Move Zeroes\n",
    "\n",
    "Given an integer array nums, move all 0's to the end of it while maintaining the relative order of the non-zero elements.\n",
    "\n",
    "Note that you must do this in-place without making a copy of the array."
   ]
  },
  {
   "cell_type": "code",
   "execution_count": 106,
   "metadata": {},
   "outputs": [
    {
     "name": "stdout",
     "output_type": "stream",
     "text": [
      "[1, 3, 12, 0, 0]\n"
     ]
    }
   ],
   "source": [
    "class Solution(object):\n",
    "    def moveZeroes(self, nums):\n",
    "        nums.sort(key=lambda i : i == 0)\n",
    "        return nums\n",
    "\n",
    "test = Solution()\n",
    "print(test.moveZeroes([0,1,0,3,12]))        "
   ]
  }
 ],
 "metadata": {
  "kernelspec": {
   "display_name": "Python 3",
   "language": "python",
   "name": "python3"
  },
  "language_info": {
   "codemirror_mode": {
    "name": "ipython",
    "version": 3
   },
   "file_extension": ".py",
   "mimetype": "text/x-python",
   "name": "python",
   "nbconvert_exporter": "python",
   "pygments_lexer": "ipython3",
   "version": "3.11.9"
  }
 },
 "nbformat": 4,
 "nbformat_minor": 2
}
