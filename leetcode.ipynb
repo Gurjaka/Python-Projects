{
 "cells": [
  {
   "cell_type": "markdown",
   "metadata": {},
   "source": [
    "1) Merge Strings Alternaly\n",
    "\n",
    "You are given two strings word1 and word2. Merge the strings by adding letters in alternating order, starting with word1. If a string is longer than the other, append the additional letters onto the end of the merged string.\n",
    "\n",
    "Return the merged string."
   ]
  },
  {
   "cell_type": "code",
   "execution_count": 1,
   "metadata": {},
   "outputs": [
    {
     "name": "stdout",
     "output_type": "stream",
     "text": [
      "apbqcr\n"
     ]
    }
   ],
   "source": [
    "class Solution():\n",
    "    def mergeAlternately(self, word1, word2):\n",
    "        output = \"\"\n",
    "        if len(word1) <= len(word2):\n",
    "            i = 0\n",
    "            while i < len(word1):\n",
    "                output += word1[i] + word2[i]\n",
    "                i += 1\n",
    "            output += word2[i:]\n",
    "        elif len(word1) > len(word2):\n",
    "            i = 0\n",
    "            while i <= len(word2):\n",
    "                output += word1[i] + word2[i]\n",
    "                i += 1\n",
    "            output += word1[i:]\n",
    "        return output\n",
    "\n",
    "text = Solution()\n",
    "print(text.mergeAlternately(\"abc\",\"pqr\"))\n"
   ]
  },
  {
   "cell_type": "markdown",
   "metadata": {},
   "source": [
    "2) Can Place Flowers\n",
    "\n",
    "You have a long flowerbed in which some of the plots are planted, and some are not. However, flowers cannot be planted in adjacent plots.\n",
    "\n",
    "Given an integer array flowerbed containing 0's and 1's, where 0 means empty and 1 means not empty, and an integer n, return true if n new flowers can be planted in the flowerbed without violating the no-adjacent-flowers rule and false otherwise."
   ]
  },
  {
   "cell_type": "code",
   "execution_count": 56,
   "metadata": {},
   "outputs": [
    {
     "name": "stdout",
     "output_type": "stream",
     "text": [
      "True\n"
     ]
    }
   ],
   "source": [
    "class Solution():\n",
    "   def canPlaceFlowers(self, flowerbed, n):\n",
    "        if n == 0:\n",
    "            return True\n",
    "        else:\n",
    "            flowerbed = [0] + flowerbed + [0]\n",
    "            count = 0\n",
    "            \n",
    "            for i in range(1, len(flowerbed) - 1):\n",
    "                if flowerbed[i] == 0 and flowerbed[i-1] == 0 and flowerbed[i+1] == 0:\n",
    "                    flowerbed[i] = 1\n",
    "                    count += 1\n",
    "                    if count >= n:\n",
    "                        return True\n",
    "            \n",
    "            return False\n",
    "flowers = Solution()\n",
    "print(flowers.canPlaceFlowers([1,0,0,0,0,0,1,0,0,0,0,1,0,0,0,0,1,0,0,0,0], 6))"
   ]
  },
  {
   "cell_type": "markdown",
   "metadata": {},
   "source": [
    "3) Kids With the Greatest Number of Candies\n",
    "\n",
    "Given an array candies representing the number of candies each kid has and an integer extraCandies, determine if each kid can have the maximum number of candies after adding extraCandies. Return a boolean array where each element is True if the kid can have the maximum candies after adding extraCandies, and False otherwise. Multiple kids can have the maximum number of candies."
   ]
  },
  {
   "cell_type": "code",
   "execution_count": 87,
   "metadata": {},
   "outputs": [
    {
     "name": "stdout",
     "output_type": "stream",
     "text": [
      "[True, True, True, False, True]\n"
     ]
    }
   ],
   "source": [
    "class Solution():\n",
    "    def kidsWithCandies(self, candies, extraCandies):\n",
    "        value = []\n",
    "        for i in candies:\n",
    "            if i+extraCandies >= max(candies):\n",
    "                value.append(True) \n",
    "            else:\n",
    "                value.append(False) \n",
    "        return value  \n",
    "kids = Solution()\n",
    "print(kids.kidsWithCandies([2,3,5,1,3], 3))"
   ]
  },
  {
   "cell_type": "markdown",
   "metadata": {},
   "source": [
    "4) Move Zeroes\n",
    "\n",
    "Given an integer array nums, move all 0's to the end of it while maintaining the relative order of the non-zero elements.\n",
    "\n",
    "Note that you must do this in-place without making a copy of the array."
   ]
  },
  {
   "cell_type": "code",
   "execution_count": 106,
   "metadata": {},
   "outputs": [
    {
     "name": "stdout",
     "output_type": "stream",
     "text": [
      "[1, 3, 12, 0, 0]\n"
     ]
    }
   ],
   "source": [
    "class Solution():\n",
    "    def moveZeroes(self, nums):\n",
    "        nums.sort(key=lambda i : i == 0)\n",
    "        return nums\n",
    "\n",
    "test = Solution()\n",
    "print(test.moveZeroes([0,1,0,3,12]))        "
   ]
  },
  {
   "cell_type": "markdown",
   "metadata": {},
   "source": [
    "5) Is Subsequence\n",
    "\n",
    "Given two strings s and t, return true if s is a subsequence of t, or false otherwise.\n",
    "\n",
    "A subsequence of a string is a new string that is formed from the original string by deleting some (can be none) of the characters without disturbing the relative positions of the remaining characters. (i.e., \"ace\" is a subsequence of \"abcde\" while \"aec\" is not).\n",
    "\n"
   ]
  },
  {
   "cell_type": "code",
   "execution_count": 26,
   "metadata": {},
   "outputs": [
    {
     "name": "stdout",
     "output_type": "stream",
     "text": [
      "True\n"
     ]
    }
   ],
   "source": [
    "class Solution:\n",
    "    def isSubsequence(self, s, t):\n",
    "        i, j = 0, 0\n",
    "        \n",
    "        while i < len(s) and j < len(t):\n",
    "            if s[i] == t[j]:\n",
    "                i += 1\n",
    "            j += 1\n",
    "        \n",
    "        return i == len(s)\n",
    "\n",
    "\n",
    "test = Solution()\n",
    "print(test.isSubsequence(\"ab\", \"baab\"))"
   ]
  },
  {
   "cell_type": "markdown",
   "metadata": {},
   "source": [
    "6) Single Number\n",
    "\n",
    " Given a non-empty array of integers nums, every element appears twice except for one. Find that single one.\n",
    "\n",
    "You must implement a solution with a linear runtime complexity and use only constant extra space."
   ]
  },
  {
   "cell_type": "code",
   "execution_count": 24,
   "metadata": {},
   "outputs": [
    {
     "name": "stdout",
     "output_type": "stream",
     "text": [
      "2\n"
     ]
    }
   ],
   "source": [
    "class Solution(object):\n",
    "    def singleNumber(self, nums):\n",
    "        result = 0\n",
    "        for num in nums:\n",
    "            result ^=num\n",
    "        return result\n",
    "print(test.singleNumber([2,2,1]))"
   ]
  },
  {
   "cell_type": "markdown",
   "metadata": {},
   "source": [
    "7) Maximum Average Subarray I\n",
    "\n",
    "You are given an integer array nums consisting of n elements, and an integer k.\n",
    "\n",
    "Find a contiguous subarray whose length is equal to k that has the maximum average value and return this value. Any answer with a calculation error less than 10-5 will be accepted."
   ]
  },
  {
   "cell_type": "code",
   "execution_count": 45,
   "metadata": {},
   "outputs": [
    {
     "name": "stdout",
     "output_type": "stream",
     "text": [
      "holle\n"
     ]
    }
   ],
   "source": [
    "class Solution(object):\n",
    "    def reverseVowels(self, s):\n",
    "        vowel = 'aeiouAEIOU'\n",
    "        found = []\n",
    "        \n",
    "        for i in s:\n",
    "            if i in vowel:\n",
    "                found.append(i)\n",
    "        \n",
    "        found.reverse()\n",
    "\n",
    "        s_list = list(s)\n",
    "        j = 0\n",
    "\n",
    "        for i in range(len(s_list)):\n",
    "            if s_list[i] in vowel:\n",
    "                s_list[i] = found[j]\n",
    "                j += 1\n",
    "\n",
    "        return ''.join(s_list)\n",
    "\n",
    "test = Solution()\n",
    "print(test.reverseVowels(\"hello\"))"
   ]
  },
  {
   "cell_type": "markdown",
   "metadata": {},
   "source": [
    "8) Maximum Average Subarray I\n",
    "\n",
    "You are given an integer array nums consisting of n elements, and an integer k.\n",
    "\n",
    "Find a contiguous subarray whose length is equal to k that has the maximum average value and return this value. Any answer with a calculation error less than 10-5 will be accepted."
   ]
  },
  {
   "cell_type": "code",
   "execution_count": 55,
   "metadata": {},
   "outputs": [
    {
     "name": "stdout",
     "output_type": "stream",
     "text": [
      "12.75\n"
     ]
    }
   ],
   "source": [
    "class Solution:\n",
    "    def findMaxAverage(self, nums, k):\n",
    "        # Calculate the sum of the first k elements\n",
    "        max_sum = current_sum = sum(nums[:k])\n",
    "        \n",
    "        # Iterate through the rest of the elements\n",
    "        for i in range(k, len(nums)):\n",
    "            current_sum += nums[i] - nums[i - k]\n",
    "            max_sum = max(max_sum, current_sum)\n",
    "        \n",
    "        # Return the maximum average value\n",
    "        return max_sum / k\n",
    "\n",
    "# Example usage\n",
    "test = Solution()\n",
    "print(test.findMaxAverage([1,12,-5,-6,50,3], 4))  # Output: 12.75"
   ]
  }
 ],
 "metadata": {
  "kernelspec": {
   "display_name": "Python 3",
   "language": "python",
   "name": "python3"
  },
  "language_info": {
   "codemirror_mode": {
    "name": "ipython",
    "version": 3
   },
   "file_extension": ".py",
   "mimetype": "text/x-python",
   "name": "python",
   "nbconvert_exporter": "python",
   "pygments_lexer": "ipython3",
   "version": "3.11.9"
  }
 },
 "nbformat": 4,
 "nbformat_minor": 2
}
